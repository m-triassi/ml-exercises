{
 "cells": [
  {
   "cell_type": "markdown",
   "metadata": {},
   "source": [
    "# Lab 1 Exercises for COMP 432 Machine Learning"
   ]
  },
  {
   "cell_type": "markdown",
   "metadata": {},
   "source": [
    "This is a Jupyter Notebook.\n",
    "\n",
    "When you opened it, the Jupyter server started a new Python interpreter to run the code you type in the cells.\n",
    "\n",
    "* **To edit a code cell**, click inside its text box. A green border should appear.\n",
    "* **To run the selected cell**, hit Ctrl+Enter.\n",
    "\n",
    "Try typing `3+4` into the cell below and run it with Ctrl+Enter. You should see `7` appear in the output."
   ]
  },
  {
   "cell_type": "code",
   "execution_count": null,
   "metadata": {},
   "outputs": [],
   "source": [
    "3+4"
   ]
  },
  {
   "cell_type": "markdown",
   "metadata": {},
   "source": [
    "This lab notebook has three types of cells:\n",
    "1. **Instruction cells** explain what you're supposed to do; don't bother trying to edit them, even though you can select them.\n",
    "2. **Code cells for answers** are where you should write your code answers, after reading the instructions.\n",
    "3. **Code cells for checking answers** come with code and can be run to help you check your answer, if applicable.\n",
    "\n",
    "Before attempting the exercises, you should have already read the [Lab1 overview](lab1.html) document."
   ]
  },
  {
   "cell_type": "markdown",
   "metadata": {},
   "source": [
    "<div style=\"border-bottom: 3px solid black; margin-bottom:5px\"></div>\n",
    "<div style=\"border-bottom: 3px solid black\"></div>\n",
    "\n",
    "## 1. Python language exercises\n",
    "\n",
    "Exercises 1.1&ndash;1.4 help to asses your understanding of the Python programming language and how it works. They assume intermediate-level Python expertise, so beginners will find them very challenging, but that is OK &mdash; keep learning until they make sense! Use the [Python language review](python.html) and ask TAs for help."
   ]
  },
  {
   "cell_type": "markdown",
   "metadata": {},
   "source": [
    "<div style=\"border-bottom: 3px solid black;\"></div>\n",
    "\n",
    "### Exercise 1.1 &ndash; Python variables, objects, and references\n",
    "The [Python language review](python.html) for this course contains a diagram of how a list object holds references to the other objects that are \"in\" the list. Go look at the example diagram in the \"List\" section.\n",
    "\n",
    "Now consider the diagram below:\n",
    "![image](img/fig-list-references-exercise.png)\n",
    "It depicts two list objects, an integer object, a float object, and a string object.\n",
    "\n",
    "**Write Python code** that creates objects in memory as depicted in the diagram, including the references shown. Write your code in the cell below. Aim for 3 lines of code, and try not to create any extra (temporary) objects not shown."
   ]
  },
  {
   "cell_type": "code",
   "execution_count": 6,
   "metadata": {},
   "outputs": [
    {
     "name": "stdout",
     "output_type": "stream",
     "text": [
      "['+3', [...]]\n"
     ]
    }
   ],
   "source": [
    "a = 1\n",
    "b = 2.0\n",
    "c = \"+3\"\n",
    "\n",
    "x = [a, b, c]\n",
    "y = [c]\n",
    "y.append(y)"
   ]
  },
  {
   "cell_type": "markdown",
   "metadata": {},
   "source": [
    "**Check your answer** by running the code cell below."
   ]
  },
  {
   "cell_type": "code",
   "execution_count": 7,
   "metadata": {},
   "outputs": [
    {
     "name": "stdout",
     "output_type": "stream",
     "text": [
      "Correct!\n"
     ]
    }
   ],
   "source": [
    "assert 'x' in globals(), \"You didn't define variable 'x'\"\n",
    "assert 'y' in globals(), \"You didn't define variable 'y'\"\n",
    "assert isinstance(x, list), \"Variable 'x' should refer to a list object\"\n",
    "assert isinstance(y, list), \"Variable 'y' should refer to a list object\"\n",
    "assert len(x) == 3, \"The list object referred to by 'x' should have length 3\"\n",
    "assert len(y) == 2, \"The list object referred to by 'y' should have length 2\"\n",
    "assert isinstance(x[0], int)   and x[0] == 1,   \"Slot x[0] should refer to an int object with value 1\"\n",
    "assert isinstance(x[1], float) and x[1] == 2.0, \"Slot x[1] should refer to a float object with value 2.0\"\n",
    "assert isinstance(x[2], str)   and x[2] == '+3', \"Slot x[2] should refer to a string object with value '+3'\"\n",
    "assert y[0] is x[2], \"Slot y[0] should refer to the same object as slot x[2]\"\n",
    "assert y[1] is y,    \"Slot y[1] should refer to the same list object that variable 'y' does\"\n",
    "print('Correct!')"
   ]
  },
  {
   "cell_type": "markdown",
   "metadata": {},
   "source": [
    "<div style=\"border-bottom: 3px solid black;\"></div>\n",
    "\n",
    "### Exercise 1.2 &ndash; Filtering a Python list\n",
    "Suppose you are given a sequence _x_ containing numbers. You are asked to write a function that returns a new sequence containing only those items that were _strictly above_ a certain threshold. In other words, your function should 'filter' the sequence according to a threshold.\n",
    "\n",
    "**Write three versions of the function:**\n",
    "1. The first version should use a standard Python for-loop and return a list. Aim for 5 lines of code inside the function.\n",
    "2. The second version should use list comprehension and return a list. Aim for 1 line.\n",
    "3. The third version should use the built-in _filter_ function to return an iterator. Aim for 1 or 2 lines.\n",
    "\n",
    "Enter all three answers in the code cell below."
   ]
  },
  {
   "cell_type": "code",
   "execution_count": 25,
   "metadata": {},
   "outputs": [
    {
     "name": "stdout",
     "output_type": "stream",
     "text": [
      "<filter object at 0x7f2d283f63a0>\n"
     ]
    }
   ],
   "source": [
    "def filter1(x, threshold):\n",
    "    high = []\n",
    "    for number in x:\n",
    "        if number > threshold:\n",
    "            high.append(number)\n",
    "    return high\n",
    "\n",
    "def filter2(x, threshold):\n",
    "    return [h for h in x if h > threshold]\n",
    "\n",
    "def filter3(x, threshold):\n",
    "    return filter(lambda h: h > threshold, x)\n",
    "    "
   ]
  },
  {
   "cell_type": "markdown",
   "metadata": {},
   "source": [
    "**Check your answer** by running the code cell below."
   ]
  },
  {
   "cell_type": "code",
   "execution_count": 26,
   "metadata": {},
   "outputs": [
    {
     "name": "stdout",
     "output_type": "stream",
     "text": [
      "Correct!\n"
     ]
    }
   ],
   "source": [
    "x = [1, 9, 2, 8, 3, 7, 4, 6, 5]\n",
    "for threshold in range(10):\n",
    "    y = filter1(x, threshold)\n",
    "    assert isinstance(y, list), \"filter1 was supposed to return a list object\"\n",
    "    assert len(y) == len(x) - threshold, \"filter1 returned wrong number of items\"\n",
    "    assert all([yi > threshold for yi in y])\n",
    "for threshold in range(10):\n",
    "    y = filter2(x, threshold)\n",
    "    assert isinstance(y, list), \"filter2 was supposed to return a list object\"\n",
    "    assert len(y) == len(x) - threshold, \"filter2 returned wrong number of items\"\n",
    "    assert all([yi > threshold for yi in y])\n",
    "for threshold in range(10):\n",
    "    y = filter3(x, threshold)\n",
    "    assert isinstance(y, filter), \"filter3 was supposed to return a filter object\"\n",
    "    y_greater = [yi > threshold for yi in y]\n",
    "    assert len(y_greater) == len(x) - threshold, \"filter3's sequence had the wrong number of items\"\n",
    "    assert all(y_greater)\n",
    "print(\"Correct!\")"
   ]
  },
  {
   "cell_type": "markdown",
   "metadata": {},
   "source": [
    "<div style=\"border-bottom: 3px solid black;\"></div>\n",
    "\n",
    "### Exercise 1.3 Storing a Python dictionary to a file\n",
    "\n",
    "Suppose you ran a machine learning experiment and found that the following configuration worked best:\n",
    "\n",
    "```\n",
    "learning_rate = 0.01\n",
    "training_steps = 350\n",
    "weight_decay = 0.05\n",
    "```\n",
    "\n",
    "(Don't worry about what these variable names actually mean, you will by the end of the course.)\n",
    "\n",
    "**Write code to save these settings in a file.** You should put the above values in a Python dictionary object, then save the object to a file called `exercise13.pkl` using the `pickle` module. See the \"Serialization\" section of the [Python language review](python.html) for an example.\n",
    "\n",
    "(Note that in practice it's better and more secure to store human-readable configurations as a JSON file, rather than a binary format like pickle, but start by learning pickle!)"
   ]
  },
  {
   "cell_type": "code",
   "execution_count": 31,
   "metadata": {},
   "outputs": [],
   "source": [
    "# He turned himself into a pickel, funniest shit i've ever seen\n",
    "import pickle\n",
    "\n",
    "settings = {\n",
    "    'learning_rate': 0.01,\n",
    "    'training_steps': 350,\n",
    "    'weight_decay': 0.05\n",
    "} \n",
    "with open('exercise13.pkl', 'wb') as s:\n",
    "    pickle.dump(settings, s)"
   ]
  },
  {
   "cell_type": "markdown",
   "metadata": {},
   "source": [
    "**Check your answer** by running the code cell below."
   ]
  },
  {
   "cell_type": "code",
   "execution_count": 32,
   "metadata": {},
   "outputs": [
    {
     "name": "stdout",
     "output_type": "stream",
     "text": [
      "Correct!\n"
     ]
    }
   ],
   "source": [
    "assert 'pickle' in globals(), \"You forgot to import the pickle module!\"\n",
    "import os\n",
    "assert os.path.exists('exercise13.pkl'), \"File 'exercise13.pkl' doesn't seem to exist! Did you write it?\"\n",
    "with open('exercise13.pkl', 'rb') as f:\n",
    "    config = pickle.load(f)\n",
    "assert isinstance(config, dict), \"Expected a single dictionary object in the file!\"\n",
    "assert len(config) == 3, \"Expected 3 keys in the dictionary!\"\n",
    "for key, value in zip(('learning_rate', 'training_steps', 'weight_decay'), (0.01, 350, 0.05)):\n",
    "    assert key in config, \"Expected '%s' to be a key in the dictionary\" % key\n",
    "    assert config[key] == value, \"Expected value for '%s' to be %s\" % (key, value)\n",
    "print(\"Correct!\")"
   ]
  },
  {
   "cell_type": "markdown",
   "metadata": {},
   "source": [
    "<div style=\"border-bottom: 3px solid black;\"></div>\n",
    "\n",
    "### Exercise 1.4 &ndash; Python lambda functions and closures\n",
    "Much of machine learning is based on computing derivatives. The derivative of $f(x)$ can be approximated by [_finite differences_](https://en.wikipedia.org/wiki/Finite_difference#Forward,_backward,_and_central_differences). Here is the _central difference:_\n",
    "\n",
    "$$f'(x) = \\lim_{\\epsilon \\rightarrow 0} \\frac{f(x + \\epsilon) - f(x - \\epsilon)}{2\\epsilon}$$\n",
    "\n",
    "For sufficiently small $\\epsilon$ the above fraction is a good approximation to $f'(x)$. (You should already know this stuff from introductory calculus.) In the computer, we'll use a small number like $\\epsilon = 10^{-5}$. \n",
    "\n",
    "**Write a Python function** that accepts a function $f$ and returns a function that approximates $f'$ at any given $x$. Use Python's _lambda_ feature to define the new function that you return. Aim for 1 line of code inside the function."
   ]
  },
  {
   "cell_type": "code",
   "execution_count": 314,
   "metadata": {},
   "outputs": [],
   "source": [
    "def approx_derivative_of(f, epsilon=1e-5):\n",
    "    \"\"\"Returns a new function that approximates the derivative of f at any point.\n",
    "\n",
    "    Arguments:\n",
    "    f       -- the function f(x) whose derivative we wish to approximate\n",
    "    epsilon -- the step size to use for central differencing (default 1e-5)\n",
    "    \"\"\"\n",
    "    return lambda x: (f(x + epsilon) - f(x - epsilon))/(2 * epsilon)\n",
    "\n"
   ]
  },
  {
   "cell_type": "markdown",
   "metadata": {},
   "source": [
    "To play around with your answer, you can try running the code cell below for different values of _x_ or even for different functions."
   ]
  },
  {
   "cell_type": "code",
   "execution_count": 52,
   "metadata": {},
   "outputs": [
    {
     "name": "stdout",
     "output_type": "stream",
     "text": [
      "2.0 8.0 12.0 12.00000000021184\n"
     ]
    }
   ],
   "source": [
    "def f(x):              # A function to compute x^3\n",
    "    return x**3\n",
    "\n",
    "def df_exact(x):       # A function to compute the exact derivative of f, which is 3x^2\n",
    "    return 3 * x**2\n",
    "\n",
    "df_approx = approx_derivative_of(f)  # A function to compute approximate derivative of f\n",
    "\n",
    "x = 2.0\n",
    "print(x, f(x), df_exact(x), df_approx(x))"
   ]
  },
  {
   "cell_type": "markdown",
   "metadata": {},
   "source": [
    "**Check your answer** by running the code cell below"
   ]
  },
  {
   "cell_type": "code",
   "execution_count": 53,
   "metadata": {},
   "outputs": [
    {
     "name": "stdout",
     "output_type": "stream",
     "text": [
      "Correct!\n"
     ]
    }
   ],
   "source": [
    "def f(x): return x**3\n",
    "def df_exact(x): return 3 * x**2\n",
    "df_approx = approx_derivative_of(f, 1e-15)\n",
    "\n",
    "assert callable(df_approx), \"You didn't return a function object!\"\n",
    "tests = [(0., 1.0000000000000003e-30), (1., 3.1641356201816957), (2., 11.990408665951689)]\n",
    "for x, answer in tests:\n",
    "    exact = df_exact(x)\n",
    "    approx = df_approx(x)\n",
    "    assert isinstance(approx, float), \"Wrong type! Expected your function to return a float object\"\n",
    "    assert approx == answer, \"Wrong value for approximation! Expected %s but got %s\" % (answer, approx)\n",
    "print(\"Correct!\")"
   ]
  },
  {
   "cell_type": "markdown",
   "metadata": {},
   "source": [
    "<div style=\"border-bottom: 3px solid black; margin-bottom:5px\"></div>\n",
    "<div style=\"border-bottom: 3px solid black;\"></div>\n",
    "\n",
    "## 2. Numpy exercises\n",
    "\n",
    "First, in the code cell below, write a line of code to import the Numpy package in the standard way, then run the code cell."
   ]
  },
  {
   "cell_type": "code",
   "execution_count": 1,
   "metadata": {},
   "outputs": [],
   "source": [
    "import numpy as np"
   ]
  },
  {
   "cell_type": "markdown",
   "metadata": {},
   "source": [
    "If you imported Numpy correctly, you should be able to run the code cell below without error."
   ]
  },
  {
   "cell_type": "code",
   "execution_count": 2,
   "metadata": {},
   "outputs": [
    {
     "name": "stdout",
     "output_type": "stream",
     "text": [
      "Ready!\n"
     ]
    }
   ],
   "source": [
    "assert 'numpy' not in globals(), \"You didn't import numpy the standard way. Do Kernel->Restart and then try again.\"\n",
    "assert 'np' in globals(), \"You didn't import numpy the standard way. Do Kernel->Restart and then try again.\"\n",
    "print(\"Ready!\")"
   ]
  },
  {
   "cell_type": "markdown",
   "metadata": {},
   "source": [
    "<div style=\"border-bottom: 3px solid black;\"></div>\n",
    "\n",
    "### Exercise 2.1 &ndash; Numpy slicing and data sharing\n",
    "The [Numpy review](numpy.html) for this course explains how Numpy arrays are represented in memory, and how multiple <code>ndarray</code> objects can share the same data in memory.\n",
    "\n",
    "Consider the diagram below, depicting three ndarray objects and two chunks of array data:\n",
    "![image](img/fig-exercise-ndarray-layout.png)\n",
    "\n",
    "Notice that the strides attribute of the ndarray object referenced by *x*, *y*, and *z* are all different. You should understand why. For example, if you print *y*, the $-3$ and $-7$ elements are swapped from how they appear in the figure above:\n",
    "```python\n",
    ">>> y\n",
    "array([[-2., -7.],\n",
    "       [-3., -8.]], dtype=float32)\n",
    "\n",
    ">>> z\n",
    "array([[-2., -7.],\n",
    "       [-3., -8.]], dtype=float32)\n",
    "```\n",
    "\n",
    "**Write Python code** that creates objects in memory as depicted in the diagram. Write your code in the cell below. Do NOT create any Python list objects in your solution, not even temporarily or as arguments to the *np.array* function. *Hint:* You should use the *arange*, slicing, transpose (*T*), negation, assignment, and *copy* operations provided by Numpy."
   ]
  },
  {
   "cell_type": "code",
   "execution_count": 123,
   "metadata": {},
   "outputs": [
    {
     "name": "stdout",
     "output_type": "stream",
     "text": [
      "(20, 4) (20, 4) (8, 4)\n"
     ]
    }
   ],
   "source": [
    "import numpy as np\n",
    "x = np.arange(0, 15, dtype='float32').reshape(3,5)\n",
    "x[0:2, 2:4] = np.negative(np.array(x[0:2, 2:4]))\n",
    "y = x[0:2, 2:4]\n",
    "z = np.transpose(np.copy(y, order=\"f\"))\n",
    "# Strides ¯\\_(ツ)_/¯ \n",
    "print(x.strides, y.strides, z.strides)\n"
   ]
  },
  {
   "cell_type": "markdown",
   "metadata": {},
   "source": [
    "**Check your answer** by running the cell below."
   ]
  },
  {
   "cell_type": "code",
   "execution_count": 117,
   "metadata": {},
   "outputs": [
    {
     "ename": "AssertionError",
     "evalue": "y strides are wrong",
     "output_type": "error",
     "traceback": [
      "\u001b[0;31m---------------------------------------------------------------------------\u001b[0m",
      "\u001b[0;31mAssertionError\u001b[0m                            Traceback (most recent call last)",
      "\u001b[0;32m<ipython-input-117-e2549a2d9bf4>\u001b[0m in \u001b[0;36m<module>\u001b[0;34m\u001b[0m\n\u001b[1;32m      8\u001b[0m \u001b[0;32massert\u001b[0m \u001b[0my\u001b[0m\u001b[0;34m.\u001b[0m\u001b[0mdtype\u001b[0m \u001b[0;34m==\u001b[0m \u001b[0mnp\u001b[0m\u001b[0;34m.\u001b[0m\u001b[0mfloat32\u001b[0m\u001b[0;34m,\u001b[0m \u001b[0;34m\"the dtype of y should be float32\"\u001b[0m\u001b[0;34m\u001b[0m\u001b[0;34m\u001b[0m\u001b[0m\n\u001b[1;32m      9\u001b[0m \u001b[0;32massert\u001b[0m \u001b[0my\u001b[0m\u001b[0;34m.\u001b[0m\u001b[0mshape\u001b[0m \u001b[0;34m==\u001b[0m \u001b[0;34m(\u001b[0m\u001b[0;36m2\u001b[0m\u001b[0;34m,\u001b[0m \u001b[0;36m2\u001b[0m\u001b[0;34m)\u001b[0m\u001b[0;34m,\u001b[0m \u001b[0;34m\"y shape is wrong\"\u001b[0m\u001b[0;34m\u001b[0m\u001b[0;34m\u001b[0m\u001b[0m\n\u001b[0;32m---> 10\u001b[0;31m \u001b[0;32massert\u001b[0m \u001b[0my\u001b[0m\u001b[0;34m.\u001b[0m\u001b[0mstrides\u001b[0m \u001b[0;34m==\u001b[0m \u001b[0;34m(\u001b[0m\u001b[0;36m4\u001b[0m\u001b[0;34m,\u001b[0m \u001b[0;36m20\u001b[0m\u001b[0;34m)\u001b[0m\u001b[0;34m,\u001b[0m \u001b[0;34m\"y strides are wrong\"\u001b[0m\u001b[0;34m\u001b[0m\u001b[0;34m\u001b[0m\u001b[0m\n\u001b[0m\u001b[1;32m     11\u001b[0m \u001b[0;32massert\u001b[0m \u001b[0mx\u001b[0m\u001b[0;34m.\u001b[0m\u001b[0msum\u001b[0m\u001b[0;34m(\u001b[0m\u001b[0;34m)\u001b[0m \u001b[0;34m==\u001b[0m \u001b[0;36m65\u001b[0m\u001b[0;34m,\u001b[0m \u001b[0;34m\"the data for x seem wrong\"\u001b[0m\u001b[0;34m\u001b[0m\u001b[0;34m\u001b[0m\u001b[0m\n\u001b[1;32m     12\u001b[0m \u001b[0;32massert\u001b[0m \u001b[0my\u001b[0m\u001b[0;34m.\u001b[0m\u001b[0msum\u001b[0m\u001b[0;34m(\u001b[0m\u001b[0;34m)\u001b[0m \u001b[0;34m==\u001b[0m \u001b[0;34m-\u001b[0m\u001b[0;36m20\u001b[0m\u001b[0;34m,\u001b[0m \u001b[0;34m\"the data for y seems wrong\"\u001b[0m\u001b[0;34m\u001b[0m\u001b[0;34m\u001b[0m\u001b[0m\n",
      "\u001b[0;31mAssertionError\u001b[0m: y strides are wrong"
     ]
    }
   ],
   "source": [
    "assert 'x' in globals(), \"You forgot to create a global variable 'x'!\"\n",
    "assert isinstance(x, np.ndarray), \"x should be an ndarray object\"\n",
    "assert x.dtype == np.float32, \"the dtype of x should be float32\"\n",
    "assert x.shape == (3, 5), \"x shape is wrong\"\n",
    "assert x.strides == (20, 4), \"x strides are wrong\"\n",
    "assert 'y' in globals(), \"You forgot to create a global variable 'y'!\"\n",
    "assert isinstance(y, np.ndarray), \"y should be an ndarray object\"\n",
    "assert y.dtype == np.float32, \"the dtype of y should be float32\"\n",
    "assert y.shape == (2, 2), \"y shape is wrong\"\n",
    "assert y.strides == (4, 20), \"y strides are wrong\"\n",
    "assert x.sum() == 65, \"the data for x seem wrong\"\n",
    "assert y.sum() == -20, \"the data for y seems wrong\"\n",
    "assert 'z' in globals(), \"You forgot to create a global variable 'z'!\"\n",
    "assert isinstance(z, np.ndarray), \"z should be an ndarray object\"\n",
    "assert z.shape == (2, 2), \"z shape is wrong\"\n",
    "assert z.strides == (8, 4), \"z strides should be C-order (see np.copy)\"\n",
    "assert np.array_equal(z, y), \"the data for z seems wrong\"\n",
    "assert np.may_share_memory(x, y), \"y should be a view into x\"\n",
    "assert not np.may_share_memory(y, z), \"z should have its own copy of the data\"\n",
    "print(\"Correct!\")\n"
   ]
  },
  {
   "cell_type": "markdown",
   "metadata": {},
   "source": [
    "<div style=\"border-bottom: 3px solid black;\"></div>\n",
    "\n",
    "### Exercise 2.2 &ndash; Use Numpy to write vectorized code\n",
    "Suppose you are given the function below, where _x_ is a two-dimensional ndarray of numbers. You can assume _x_ is not empty (has at least one item)."
   ]
  },
  {
   "cell_type": "code",
   "execution_count": 151,
   "metadata": {},
   "outputs": [
    {
     "data": {
      "text/plain": [
       "array([[ 0,  1,  2,  3,  4],\n",
       "       [ 5,  6,  7,  8,  9],\n",
       "       [10, 11, 12, 13, 14]])"
      ]
     },
     "execution_count": 151,
     "metadata": {},
     "output_type": "execute_result"
    }
   ],
   "source": [
    "def exercise22_loop(x):\n",
    "    n, m = x.shape\n",
    "    v = x[0,0]\n",
    "    for i in range(n):\n",
    "        for j in range(m):\n",
    "            if x[i,j] < v:\n",
    "                v = x[i,j]\n",
    "    \n",
    "    y = np.empty_like(x)\n",
    "    for i in range(n):\n",
    "        for j in range(m):\n",
    "            y[i,j] = x[i,j] - v\n",
    "            \n",
    "    return y"
   ]
  },
  {
   "cell_type": "markdown",
   "metadata": {},
   "source": [
    "You should know Python and Numpy well enough to figure out what the above code does.\n",
    "\n",
    "**Write a new version of the function** that uses Numpy in a way that doesn't require Python for-loops. In other words, your solution should be completely _vectorized_. This is similar to writing good Matlab code. Write your answer in the code cell below. Aim for 1 line of code."
   ]
  },
  {
   "cell_type": "code",
   "execution_count": 156,
   "metadata": {},
   "outputs": [
    {
     "name": "stdout",
     "output_type": "stream",
     "text": [
      "[[ 0  1  2  3  4]\n",
      " [ 5  6  7  8  9]\n",
      " [10 11 12 13 14]]\n"
     ]
    }
   ],
   "source": [
    "def exercise22_vectorized(x):\n",
    "    return x - np.amin(x)"
   ]
  },
  {
   "cell_type": "markdown",
   "metadata": {},
   "source": [
    "**Check your answer** by running the code cell below."
   ]
  },
  {
   "cell_type": "code",
   "execution_count": 157,
   "metadata": {},
   "outputs": [
    {
     "name": "stdout",
     "output_type": "stream",
     "text": [
      "Correct!\n",
      "You vectorized code ran 339.0x faster than the original code on a 200x200 matrix\n"
     ]
    }
   ],
   "source": [
    "assert 'exercise22_loop' in globals(), \"You forgot to run the code cell with the loop-based code!\"\n",
    "assert 'exercise22_vectorized' in globals(), \"You forgot to run the code cell with your answer!\"\n",
    "for i in range(10):\n",
    "    x = np.random.randint(100, size=(5, 3))\n",
    "    y = exercise22_vectorized(x)\n",
    "    y_correct = exercise22_loop(x)\n",
    "    assert isinstance(y, np.ndarray), \"You didn't return an ndarray object!\"\n",
    "    assert y.shape == x.shape, \"You returned an ndarray but of the wrong shape!\"\n",
    "    assert y.dtype == x.dtype, \"You returned an ndarray but of the wrong dtype!\"\n",
    "    assert np.array_equal(y, y_correct), \"Wrong result!\\nx:\\n%s\\nexpected:\\n%s\\nreturned:\\n%s\" % (x, y_correct, y)\n",
    "print(\"Correct!\")\n",
    "\n",
    "import timeit\n",
    "x = np.random.randint(1000, size=(200, 200))\n",
    "loop_time = timeit.timeit('exercise22_loop(x)',      setup=\"from __main__ import exercise22_loop, x\", number=10)\n",
    "vec_time = timeit.timeit('exercise22_vectorized(x)', setup=\"from __main__ import exercise22_vectorized, x\", number=10)\n",
    "print(\"You vectorized code ran %.1fx faster than the original code on a 200x200 matrix\" % (loop_time/vec_time))"
   ]
  },
  {
   "cell_type": "markdown",
   "metadata": {},
   "source": [
    "<div style=\"border-bottom: 3px solid black;\"></div>\n",
    "\n",
    "### Exercise 2.3 &ndash; Check the quality of a solution to a linear system\n",
    "Suppose you are given matrix $A \\in \\mathbb{R}^{m\\times n}$ and vector $b \\in \\mathbb{R}^{m}$ and are told that $x \\in \\mathbb{R}^{n}$ is a solution to the system of linear equations $Ax = b$.\n",
    "\n",
    "**Write a Python function** that returns whether $x$ is indeed a solution to $Ax = b$. Your function should return true if and only if all residuals $\\lvert Ax-b \\rvert \\lt \\epsilon$ for a given tolerance parameter $\\epsilon$. Aim for 1 line of code."
   ]
  },
  {
   "cell_type": "code",
   "execution_count": 198,
   "metadata": {},
   "outputs": [],
   "source": [
    "def is_solution(A, b, x, epsilon=1e-5):\n",
    "    \"\"\"Returns whether x is a solution to Ax=b, with all residuals below epsilon.\"\"\"\n",
    "    return np.all((np.dot(A, x) - b < epsilon))"
   ]
  },
  {
   "cell_type": "markdown",
   "metadata": {},
   "source": [
    "**Check your answer** by running the cell below."
   ]
  },
  {
   "cell_type": "code",
   "execution_count": 199,
   "metadata": {},
   "outputs": [
    {
     "name": "stdout",
     "output_type": "stream",
     "text": [
      "Correct!\n"
     ]
    }
   ],
   "source": [
    "assert 'is_solution' in globals(), \"You forgot to run the code cell with your answer!\"\n",
    "A = np.array([[2., 0.5], [-5., 3.]])\n",
    "b = np.array([5., 9.])\n",
    "x = np.array([1.23529, 5.05882])\n",
    "result = is_solution(A, b, x)\n",
    "assert isinstance(result, np.bool_), \"Wrong result type! Expected single Numpy bool_ value, but was type %s\" % type(result)\n",
    "assert result, \"Wrong answer! x is a solution within tolerance 1e-5\"\n",
    "result = is_solution(A, b, x, epsilon=1e-8)\n",
    "assert isinstance(result, np.bool_), \"Wrong result type! Expected single Numpy bool_ value, but was type %s\" % type(result)\n",
    "assert not result, \"Wrong answer! x is not a solution within tolerance 1e-8\"\n",
    "print(\"Correct!\")"
   ]
  },
  {
   "cell_type": "markdown",
   "metadata": {},
   "source": [
    "<div style=\"border-bottom: 3px solid black;\"></div>\n",
    "\n",
    "### Exercise 2.4 &ndash; Use random numbers to shuffle a pair of matrices together\n",
    "\n",
    "Suppose you are given a pair of matrices $X \\in \\mathbb{R}^{m \\times n}$ and $Y \\in \\mathbb{R}^{m \\times k}$, and you must 'shuffle' their rows by the same permutation.\n",
    "\n",
    "For example, consider the pair\n",
    "\n",
    "$$\n",
    "X = \\begin{bmatrix}\n",
    "0 & 0\\\\\n",
    "0 & 1\\\\\n",
    "1 & 1\\\\\n",
    "\\end{bmatrix},\\;\n",
    "Y = \\begin{bmatrix}\n",
    "10\\\\\n",
    "20\\\\\n",
    "30\\\\\n",
    "\\end{bmatrix}.\n",
    "$$\n",
    "\n",
    "The following is a valid row-wise shuffle where new rows $(0,1,2)$ are taken from original rows $(1,2,0)$\n",
    "\n",
    "$$\n",
    "X = \\begin{bmatrix}\n",
    "0 & 1\\\\\n",
    "1 & 1\\\\\n",
    "0 & 0\\\\\n",
    "\\end{bmatrix},\\;\n",
    "Y = \\begin{bmatrix}\n",
    "20\\\\\n",
    "30\\\\\n",
    "10\\\\\n",
    "\\end{bmatrix}\n",
    "$$\n",
    "\n",
    "whereas the following is an _invalid_ row-wise shuffle because $X$ and $Y$ are not formed by the same permutation (their rows no longer match up)\n",
    "\n",
    "$$\n",
    "X = \\begin{bmatrix}\n",
    "0 & 1\\\\\n",
    "1 & 1\\\\\n",
    "0 & 0\\\\\n",
    "\\end{bmatrix},\\;\n",
    "Y = \\begin{bmatrix}\n",
    "30\\\\\n",
    "20\\\\\n",
    "10\\\\\n",
    "\\end{bmatrix}.\n",
    "$$\n",
    "\n",
    "**Write a function** that returns a new pair $X$ and $Y$ that are row-shuffled versions of the original arguments. Use Numpy's [permutation](https://www.numpy.org/devdocs/reference/generated/numpy.random.permutation.html) function. The rows of both $X$ and $Y$ should be shuffled by the same permutation, _not_ shuffled independently. Do not modify the original ndarray objects. If $X$ and $Y$ do not have the same number of rows, raise a _ValueError_ exception. Aim for 4 lines of code."
   ]
  },
  {
   "cell_type": "code",
   "execution_count": 247,
   "metadata": {},
   "outputs": [
    {
     "name": "stdout",
     "output_type": "stream",
     "text": [
      "[[ 0  1  2]\n",
      " [ 3  4  5]\n",
      " [ 6  7  8]\n",
      " [ 9 10 11]]\n",
      "[[0 1]\n",
      " [2 3]\n",
      " [4 5]\n",
      " [6 7]]\n",
      "[[ 6  7  8]\n",
      " [ 0  1  2]\n",
      " [ 3  4  5]\n",
      " [ 9 10 11]]\n",
      "[[ 3  4  5]\n",
      " [ 0  1  2]\n",
      " [ 6  7  8]\n",
      " [ 9 10 11]]\n"
     ]
    }
   ],
   "source": [
    "def shuffle_dataset(X, Y):\n",
    "    \"\"\"Returns a pair of new ndarrays X, Y where the rows have been shuffled by a permutation.\n",
    "    \n",
    "    X and Y must refer to two ndarrays that have the same number of rows.\n",
    "    Does not modify the original X and Y ndarray objects.\n",
    "    \"\"\"\n",
    "    if (X.shape[0] != Y.shape[0]): raise ValueError\n",
    "    source = np.random.permutation(X)\n",
    "    destination = np.random.permutation(X)\n",
    "    return source, destination\n",
    "\n",
    "m, n, k = 4, 3, 2   # Check for X 4x3 and Y 4x2 ndarrays\n",
    "num_trials = 500    # Should be enough trials to see all (m!) possible shuffles\n",
    "perms = set()       # Collect all unique permutations we've seen returned by the student code using this set\n",
    "X = np.arange(m*n).reshape((m, n))\n",
    "Y = np.arange(m*k).reshape((m, k))\n",
    "Xnew, Ynew = shuffle_dataset(X, Y)  # Run the student code\n",
    "print(X)\n",
    "print(Y)\n",
    "print(Xnew)\n",
    "print(Ynew)\n"
   ]
  },
  {
   "cell_type": "markdown",
   "metadata": {},
   "source": [
    "**Check your answer** by running the code cell below."
   ]
  },
  {
   "cell_type": "code",
   "execution_count": 246,
   "metadata": {},
   "outputs": [
    {
     "name": "stdout",
     "output_type": "stream",
     "text": [
      "[[ 0  3  6  9]\n",
      " [ 1  4  7 10]\n",
      " [ 2  5  8 11]]\n",
      "[[ 0  1  2]\n",
      " [ 3  4  5]\n",
      " [ 6  7  8]\n",
      " [ 9 10 11]]\n"
     ]
    },
    {
     "ename": "AxisError",
     "evalue": "source: axis 2 is out of bounds for array of dimension 2",
     "output_type": "error",
     "traceback": [
      "\u001b[0;31m---------------------------------------------------------------------------\u001b[0m",
      "\u001b[0;31mAxisError\u001b[0m                                 Traceback (most recent call last)",
      "\u001b[0;32m<ipython-input-246-2b6aca4eea55>\u001b[0m in \u001b[0;36m<module>\u001b[0;34m\u001b[0m\n\u001b[1;32m      7\u001b[0m     \u001b[0mXarg\u001b[0m \u001b[0;34m=\u001b[0m \u001b[0mX\u001b[0m\u001b[0;34m.\u001b[0m\u001b[0mcopy\u001b[0m\u001b[0;34m(\u001b[0m\u001b[0;34m)\u001b[0m\u001b[0;34m\u001b[0m\u001b[0;34m\u001b[0m\u001b[0m\n\u001b[1;32m      8\u001b[0m     \u001b[0mYarg\u001b[0m \u001b[0;34m=\u001b[0m \u001b[0mY\u001b[0m\u001b[0;34m.\u001b[0m\u001b[0mcopy\u001b[0m\u001b[0;34m(\u001b[0m\u001b[0;34m)\u001b[0m\u001b[0;34m\u001b[0m\u001b[0;34m\u001b[0m\u001b[0m\n\u001b[0;32m----> 9\u001b[0;31m     \u001b[0mXnew\u001b[0m\u001b[0;34m,\u001b[0m \u001b[0mYnew\u001b[0m \u001b[0;34m=\u001b[0m \u001b[0mshuffle_dataset\u001b[0m\u001b[0;34m(\u001b[0m\u001b[0mXarg\u001b[0m\u001b[0;34m,\u001b[0m \u001b[0mYarg\u001b[0m\u001b[0;34m)\u001b[0m  \u001b[0;31m# Run the student code\u001b[0m\u001b[0;34m\u001b[0m\u001b[0;34m\u001b[0m\u001b[0m\n\u001b[0m\u001b[1;32m     10\u001b[0m     \u001b[0mprint\u001b[0m\u001b[0;34m(\u001b[0m\u001b[0mXnew\u001b[0m\u001b[0;34m)\u001b[0m\u001b[0;34m\u001b[0m\u001b[0;34m\u001b[0m\u001b[0m\n\u001b[1;32m     11\u001b[0m     \u001b[0mprint\u001b[0m\u001b[0;34m(\u001b[0m\u001b[0mYnew\u001b[0m\u001b[0;34m)\u001b[0m\u001b[0;34m\u001b[0m\u001b[0;34m\u001b[0m\u001b[0m\n",
      "\u001b[0;32m<ipython-input-245-7f26b2ed393c>\u001b[0m in \u001b[0;36mshuffle_dataset\u001b[0;34m(X, Y)\u001b[0m\n\u001b[1;32m     10\u001b[0m     \u001b[0mprint\u001b[0m\u001b[0;34m(\u001b[0m\u001b[0mnp\u001b[0m\u001b[0;34m.\u001b[0m\u001b[0mrollaxis\u001b[0m\u001b[0;34m(\u001b[0m\u001b[0mX\u001b[0m\u001b[0;34m,\u001b[0m \u001b[0;36m1\u001b[0m\u001b[0;34m)\u001b[0m\u001b[0;34m)\u001b[0m\u001b[0;34m\u001b[0m\u001b[0;34m\u001b[0m\u001b[0m\n\u001b[1;32m     11\u001b[0m     \u001b[0mprint\u001b[0m\u001b[0;34m(\u001b[0m\u001b[0mX\u001b[0m\u001b[0;34m)\u001b[0m\u001b[0;34m\u001b[0m\u001b[0;34m\u001b[0m\u001b[0m\n\u001b[0;32m---> 12\u001b[0;31m     \u001b[0;32mreturn\u001b[0m \u001b[0mnp\u001b[0m\u001b[0;34m.\u001b[0m\u001b[0mmoveaxis\u001b[0m\u001b[0;34m(\u001b[0m\u001b[0mX\u001b[0m\u001b[0;34m,\u001b[0m \u001b[0msource\u001b[0m\u001b[0;34m,\u001b[0m \u001b[0mdestination\u001b[0m\u001b[0;34m)\u001b[0m\u001b[0;34m,\u001b[0m \u001b[0mnp\u001b[0m\u001b[0;34m.\u001b[0m\u001b[0mmoveaxis\u001b[0m\u001b[0;34m(\u001b[0m\u001b[0mY\u001b[0m\u001b[0;34m,\u001b[0m \u001b[0msource\u001b[0m\u001b[0;34m,\u001b[0m \u001b[0mdestination\u001b[0m\u001b[0;34m)\u001b[0m\u001b[0;34m\u001b[0m\u001b[0;34m\u001b[0m\u001b[0m\n\u001b[0m",
      "\u001b[0;32m<__array_function__ internals>\u001b[0m in \u001b[0;36mmoveaxis\u001b[0;34m(*args, **kwargs)\u001b[0m\n",
      "\u001b[0;32m~/.local/lib/python3.8/site-packages/numpy/core/numeric.py\u001b[0m in \u001b[0;36mmoveaxis\u001b[0;34m(a, source, destination)\u001b[0m\n\u001b[1;32m   1426\u001b[0m         \u001b[0mtranspose\u001b[0m \u001b[0;34m=\u001b[0m \u001b[0ma\u001b[0m\u001b[0;34m.\u001b[0m\u001b[0mtranspose\u001b[0m\u001b[0;34m\u001b[0m\u001b[0;34m\u001b[0m\u001b[0m\n\u001b[1;32m   1427\u001b[0m \u001b[0;34m\u001b[0m\u001b[0m\n\u001b[0;32m-> 1428\u001b[0;31m     \u001b[0msource\u001b[0m \u001b[0;34m=\u001b[0m \u001b[0mnormalize_axis_tuple\u001b[0m\u001b[0;34m(\u001b[0m\u001b[0msource\u001b[0m\u001b[0;34m,\u001b[0m \u001b[0ma\u001b[0m\u001b[0;34m.\u001b[0m\u001b[0mndim\u001b[0m\u001b[0;34m,\u001b[0m \u001b[0;34m'source'\u001b[0m\u001b[0;34m)\u001b[0m\u001b[0;34m\u001b[0m\u001b[0;34m\u001b[0m\u001b[0m\n\u001b[0m\u001b[1;32m   1429\u001b[0m     \u001b[0mdestination\u001b[0m \u001b[0;34m=\u001b[0m \u001b[0mnormalize_axis_tuple\u001b[0m\u001b[0;34m(\u001b[0m\u001b[0mdestination\u001b[0m\u001b[0;34m,\u001b[0m \u001b[0ma\u001b[0m\u001b[0;34m.\u001b[0m\u001b[0mndim\u001b[0m\u001b[0;34m,\u001b[0m \u001b[0;34m'destination'\u001b[0m\u001b[0;34m)\u001b[0m\u001b[0;34m\u001b[0m\u001b[0;34m\u001b[0m\u001b[0m\n\u001b[1;32m   1430\u001b[0m     \u001b[0;32mif\u001b[0m \u001b[0mlen\u001b[0m\u001b[0;34m(\u001b[0m\u001b[0msource\u001b[0m\u001b[0;34m)\u001b[0m \u001b[0;34m!=\u001b[0m \u001b[0mlen\u001b[0m\u001b[0;34m(\u001b[0m\u001b[0mdestination\u001b[0m\u001b[0;34m)\u001b[0m\u001b[0;34m:\u001b[0m\u001b[0;34m\u001b[0m\u001b[0;34m\u001b[0m\u001b[0m\n",
      "\u001b[0;32m~/.local/lib/python3.8/site-packages/numpy/core/numeric.py\u001b[0m in \u001b[0;36mnormalize_axis_tuple\u001b[0;34m(axis, ndim, argname, allow_duplicate)\u001b[0m\n\u001b[1;32m   1356\u001b[0m             \u001b[0;32mpass\u001b[0m\u001b[0;34m\u001b[0m\u001b[0;34m\u001b[0m\u001b[0m\n\u001b[1;32m   1357\u001b[0m     \u001b[0;31m# Going via an iterator directly is slower than via list comprehension.\u001b[0m\u001b[0;34m\u001b[0m\u001b[0;34m\u001b[0m\u001b[0;34m\u001b[0m\u001b[0m\n\u001b[0;32m-> 1358\u001b[0;31m     \u001b[0maxis\u001b[0m \u001b[0;34m=\u001b[0m \u001b[0mtuple\u001b[0m\u001b[0;34m(\u001b[0m\u001b[0;34m[\u001b[0m\u001b[0mnormalize_axis_index\u001b[0m\u001b[0;34m(\u001b[0m\u001b[0max\u001b[0m\u001b[0;34m,\u001b[0m \u001b[0mndim\u001b[0m\u001b[0;34m,\u001b[0m \u001b[0margname\u001b[0m\u001b[0;34m)\u001b[0m \u001b[0;32mfor\u001b[0m \u001b[0max\u001b[0m \u001b[0;32min\u001b[0m \u001b[0maxis\u001b[0m\u001b[0;34m]\u001b[0m\u001b[0;34m)\u001b[0m\u001b[0;34m\u001b[0m\u001b[0;34m\u001b[0m\u001b[0m\n\u001b[0m\u001b[1;32m   1359\u001b[0m     \u001b[0;32mif\u001b[0m \u001b[0;32mnot\u001b[0m \u001b[0mallow_duplicate\u001b[0m \u001b[0;32mand\u001b[0m \u001b[0mlen\u001b[0m\u001b[0;34m(\u001b[0m\u001b[0mset\u001b[0m\u001b[0;34m(\u001b[0m\u001b[0maxis\u001b[0m\u001b[0;34m)\u001b[0m\u001b[0;34m)\u001b[0m \u001b[0;34m!=\u001b[0m \u001b[0mlen\u001b[0m\u001b[0;34m(\u001b[0m\u001b[0maxis\u001b[0m\u001b[0;34m)\u001b[0m\u001b[0;34m:\u001b[0m\u001b[0;34m\u001b[0m\u001b[0;34m\u001b[0m\u001b[0m\n\u001b[1;32m   1360\u001b[0m         \u001b[0;32mif\u001b[0m \u001b[0margname\u001b[0m\u001b[0;34m:\u001b[0m\u001b[0;34m\u001b[0m\u001b[0;34m\u001b[0m\u001b[0m\n",
      "\u001b[0;32m~/.local/lib/python3.8/site-packages/numpy/core/numeric.py\u001b[0m in \u001b[0;36m<listcomp>\u001b[0;34m(.0)\u001b[0m\n\u001b[1;32m   1356\u001b[0m             \u001b[0;32mpass\u001b[0m\u001b[0;34m\u001b[0m\u001b[0;34m\u001b[0m\u001b[0m\n\u001b[1;32m   1357\u001b[0m     \u001b[0;31m# Going via an iterator directly is slower than via list comprehension.\u001b[0m\u001b[0;34m\u001b[0m\u001b[0;34m\u001b[0m\u001b[0;34m\u001b[0m\u001b[0m\n\u001b[0;32m-> 1358\u001b[0;31m     \u001b[0maxis\u001b[0m \u001b[0;34m=\u001b[0m \u001b[0mtuple\u001b[0m\u001b[0;34m(\u001b[0m\u001b[0;34m[\u001b[0m\u001b[0mnormalize_axis_index\u001b[0m\u001b[0;34m(\u001b[0m\u001b[0max\u001b[0m\u001b[0;34m,\u001b[0m \u001b[0mndim\u001b[0m\u001b[0;34m,\u001b[0m \u001b[0margname\u001b[0m\u001b[0;34m)\u001b[0m \u001b[0;32mfor\u001b[0m \u001b[0max\u001b[0m \u001b[0;32min\u001b[0m \u001b[0maxis\u001b[0m\u001b[0;34m]\u001b[0m\u001b[0;34m)\u001b[0m\u001b[0;34m\u001b[0m\u001b[0;34m\u001b[0m\u001b[0m\n\u001b[0m\u001b[1;32m   1359\u001b[0m     \u001b[0;32mif\u001b[0m \u001b[0;32mnot\u001b[0m \u001b[0mallow_duplicate\u001b[0m \u001b[0;32mand\u001b[0m \u001b[0mlen\u001b[0m\u001b[0;34m(\u001b[0m\u001b[0mset\u001b[0m\u001b[0;34m(\u001b[0m\u001b[0maxis\u001b[0m\u001b[0;34m)\u001b[0m\u001b[0;34m)\u001b[0m \u001b[0;34m!=\u001b[0m \u001b[0mlen\u001b[0m\u001b[0;34m(\u001b[0m\u001b[0maxis\u001b[0m\u001b[0;34m)\u001b[0m\u001b[0;34m:\u001b[0m\u001b[0;34m\u001b[0m\u001b[0;34m\u001b[0m\u001b[0m\n\u001b[1;32m   1360\u001b[0m         \u001b[0;32mif\u001b[0m \u001b[0margname\u001b[0m\u001b[0;34m:\u001b[0m\u001b[0;34m\u001b[0m\u001b[0;34m\u001b[0m\u001b[0m\n",
      "\u001b[0;31mAxisError\u001b[0m: source: axis 2 is out of bounds for array of dimension 2"
     ]
    }
   ],
   "source": [
    "m, n, k = 4, 3, 2   # Check for X 4x3 and Y 4x2 ndarrays\n",
    "num_trials = 500    # Should be enough trials to see all (m!) possible shuffles\n",
    "perms = set()       # Collect all unique permutations we've seen returned by the student code using this set\n",
    "X = np.arange(m*n).reshape((m, n))\n",
    "Y = np.arange(m*k).reshape((m, k))\n",
    "for i in range(num_trials):\n",
    "    Xarg = X.copy()\n",
    "    Yarg = Y.copy()\n",
    "    Xnew, Ynew = shuffle_dataset(Xarg, Yarg)  # Run the student code\n",
    "    assert np.array_equal(Xarg, X), \"Your code wasn't supposed to modify the X argument:\\n%s vs\\n%s\" % (Xarg, X)\n",
    "    assert np.array_equal(Yarg, Y), \"Your code wasn't supposed to modify the Y argument:\\n%s vs\\n%s\" % (Yarg, Y)\n",
    "    Xperm = np.argsort(Xnew[:,0])  # Undo the permutation via sorting, since original\n",
    "    Yperm = np.argsort(Ynew[:,0])  # array elements were increasing by row\n",
    "    assert np.array_equal(Xnew[Xperm], X), \"Your code didn't return a row permutation of X:\\n%s vs\\n%s\" % (Xnew, X)\n",
    "    assert np.array_equal(Ynew[Yperm], Y), \"Your code didn't return a row permutation of Y:\\n%s vs\\n%s\" % (Ynew, Y)\n",
    "    assert np.array_equal(Xperm, Yperm), \"Your code didn't return the same row permutation for X and Y\"\n",
    "    perms.add(tuple(Xperm))  # Count the number of times this permutation was encountered\n",
    "\n",
    "if len(perms) != 24:\n",
    "    print(\"Warning: observed %d of 24 possible permutations after %d trials.\" % (len(perms), num_trials))\n",
    "else:\n",
    "    try:\n",
    "        shuffle_dataset(X[:-1], Y)  # Run the student code with invalid input\n",
    "    except ValueError:\n",
    "        print(\"Looks good!\")\n",
    "    else:\n",
    "        raise AssertionError(\"Your code was supposed to raise a ValueError\"\n",
    "                             \"if X and Y had different number of rows\")"
   ]
  },
  {
   "cell_type": "markdown",
   "metadata": {},
   "source": [
    "<div style=\"border-bottom: 3px solid black; margin-bottom:5px\"></div>\n",
    "<div style=\"border-bottom: 3px solid black;\"></div>\n",
    "\n",
    "## 3. Plotting exercises\n",
    "First, in the code cell below, write code to import the _pyplot_ module from the Matplotlib package in the standard way, then run the code cell."
   ]
  },
  {
   "cell_type": "code",
   "execution_count": 248,
   "metadata": {},
   "outputs": [],
   "source": [
    "import matplotlib.pyplot as plt"
   ]
  },
  {
   "cell_type": "markdown",
   "metadata": {},
   "source": [
    "If you imported the _pyplot_ module from Matplotlib correctly you should be able to run the code cell below without error."
   ]
  },
  {
   "cell_type": "code",
   "execution_count": 249,
   "metadata": {},
   "outputs": [
    {
     "name": "stdout",
     "output_type": "stream",
     "text": [
      "Ready!\n"
     ]
    }
   ],
   "source": [
    "assert 'matplotlib' not in globals(), \"You didn't need to import matplotlib itself, just the pyplot submodule.\"\n",
    "assert 'pyplot' not in globals(), \"You didn't import pyplot in the standard way. Do Kernel->Restart and then try again.\"\n",
    "assert 'plt' in globals(), \"You didn't import pyplot in the standard way. Do Kernel->Restart and then try again.\"\n",
    "print(\"Ready!\")"
   ]
  },
  {
   "cell_type": "markdown",
   "metadata": {},
   "source": [
    "<div style=\"border-bottom: 3px solid black;\"></div>\n",
    "\n",
    "### Exercise 3.1 &ndash; Plot a function\n",
    "\n",
    "**Plot these functions** over the interval $x \\in [-5, 5]$:\n",
    "\n",
    "1. The [sigmoid](https://en.wikipedia.org/wiki/Sigmoid_function) function $\\sigma(x) = \\frac{1}{1+e^{-x}}$\n",
    "2. The [rectifier](https://en.wikipedia.org/wiki/Rectifier_(neural_networks)) function $f(x) = \\max(0, x)$\n",
    "\n",
    "Requirements:\n",
    "* Use Numpy ndarrays and Numpy functions for your solution, _not_ Python lists.\n",
    "* Plot both curves in the same plot\n",
    "* Use the **plt.[ylim](https://matplotlib.org/3.1.1/api/_as_gen/matplotlib.pyplot.ylim.html)** function to set the y axis range to $[-0.1,3.1]$.\n",
    "* Use the **plt.[grid](https://matplotlib.org/3.1.1/api/_as_gen/matplotlib.pyplot.grid.html)** function to show a grid.\n",
    "* Use the **plt.[xlabel](https://matplotlib.org/3.1.1/api/_as_gen/matplotlib.pyplot.xlabel.html)** function to set the x-axis label.\n",
    "* Use the **plt.[legend](https://matplotlib.org/3.1.1/api/_as_gen/matplotlib.pyplot.legend.html)** function to add a legend.\n",
    "* Use the **plt.[title](https://matplotlib.org/3.1.1/api/_as_gen/matplotlib.pyplot.title.html)** function to add a title.\n",
    "\n",
    "You should be able to reproduce the plot below:\n",
    "<img src=\"img/fig-exercise-sigmoid-and-rectifier.png\"/>"
   ]
  },
  {
   "cell_type": "code",
   "execution_count": 291,
   "metadata": {},
   "outputs": [
    {
     "data": {
      "text/plain": [
       "<matplotlib.legend.Legend at 0x7faa4f8b6ee0>"
      ]
     },
     "execution_count": 291,
     "metadata": {},
     "output_type": "execute_result"
    },
    {
     "data": {
      "image/png": "[encoded data removed]",
      "text/plain": [
       "<Figure size 432x288 with 1 Axes>"
      ]
     },
     "metadata": {
      "needs_background": "light"
     },
     "output_type": "display_data"
    }
   ],
   "source": [
    "interval = np.arange(-5, 6)\n",
    "sigmoid = 1/(1 + np.exp(-interval))\n",
    "rectifier = np.vectorize(lambda t: np.max([t, 0]))\n",
    "plt.ylim(-0.1, 3.1)\n",
    "#plt.xlim(-5, 5) ??\n",
    "plt.grid()\n",
    "plt.xlabel('x')\n",
    "plt.title('Sigmoid and Rectifier Functions')\n",
    "plt.plot(sigmoid, label='sigmoid')\n",
    "plt.plot(rectifier(interval), label='rectifier')\n",
    "plt.legend()"
   ]
  },
  {
   "cell_type": "markdown",
   "metadata": {},
   "source": [
    "<div style=\"border-bottom: 3px solid black;\"></div>\n",
    "\n",
    "### Exercise 3.2 &ndash; Plot accuracy of finite differences\n",
    "**Plot the accuracy** of the central difference approximation from Exercise 1.4 for different values of the step size $\\epsilon$. Your plot should show that the finite difference approximation breaks down for values of $\\epsilon$ that are too large or too small.\n",
    "\n",
    "Run the code cell below to define functions for $f(x) = x^3$ and its exact first derivative $f'(x) = 3x^2$."
   ]
  },
  {
   "cell_type": "code",
   "execution_count": 293,
   "metadata": {},
   "outputs": [],
   "source": [
    "def f(x):\n",
    "    return x**3\n",
    "\n",
    "def df_exact(x):\n",
    "    return 3 * x**2"
   ]
  },
  {
   "cell_type": "markdown",
   "metadata": {},
   "source": [
    "First, plot the `f` and `f_exact` functions over range $x \\in [-1.2, 1.2]$, including title and legend as shown below:\n",
    "<img src=\"img/fig-exercise-plot-derivatives-1.png\" style=\"margin-bottom:20px\"/>\n",
    "\n",
    "Second, once you've got the above plot, use your `approx_derivative_of(f, epsilon)` function from Exercise 1.4 to add three new series to your plot, corresponding to $\\epsilon=1$, $\\epsilon=10^{-8}$ and $\\epsilon=10^{-16}$. Your new plot should look like this:\n",
    "<img src=\"img/fig-exercise-plot-derivatives-2.png\"/>\n",
    "\n",
    "Make greek symbols like $\\epsilon$ in a label or a title by using the dollar sign (\\$) and superscript (^), such as `\"Argument $\\beta$ has value $10^{3}$\"` would render in the plot as <span style=\"border: 1px solid #ddd; padding:3px;\">Argument $\\beta$ has value $10^3$</span>"
   ]
  },
  {
   "cell_type": "code",
   "execution_count": 349,
   "metadata": {},
   "outputs": [
    {
     "data": {
      "text/plain": [
       "<matplotlib.legend.Legend at 0x7faa485dcfd0>"
      ]
     },
     "execution_count": 349,
     "metadata": {},
     "output_type": "execute_result"
    },
    {
     "data": {
      "image/png": "[encoded data removed]",
      "text/plain": [
       "<Figure size 432x288 with 1 Axes>"
      ]
     },
     "metadata": {
      "needs_background": "light"
     },
     "output_type": "display_data"
    }
   ],
   "source": [
    "interval = np.arange(-1.2, 1.3, 0.1)\n",
    "cubic = f(interval)\n",
    "exact = df_exact(interval)\n",
    "approx1 = approx_derivative_of(f, 1)\n",
    "approx8 = approx_derivative_of(f, 1e-8)\n",
    "approx16 = approx_derivative_of(f, 1e-16)\n",
    "\n",
    "# not sure why my purple line doesnt degrade for sufficiently small epsilon? i even tried 1e-100000\n",
    "plt.ylim(-2, 5)\n",
    "plt.plot(cubic, label=\"cubic\")\n",
    "plt.plot(exact, label=\"exact derivative\")\n",
    "plt.plot(approx1(interval), label=\"approx derivative \\u03B5 = 1\")\n",
    "plt.plot(approx8(interval), label=\"approx derivative \\u03B5 = $10^{-8}$\")\n",
    "plt.plot(approx10(interval), label=\"approx derivative \\u03B5 = $10^{-16}$\")\n",
    "\n",
    "plt.legend()"
   ]
  },
  {
   "cell_type": "markdown",
   "metadata": {},
   "source": [
    "<div style=\"border-bottom: 3px solid black;\"></div>\n",
    "\n",
    "### Exercise 3.3 &ndash; Plot a stack of images\n",
    "\n",
    "**Stack two images and plot them.** Follow these steps:\n",
    "\n",
    "1. The lab comes with a file called [mnist-digit-2.png](mnist-digit-2.png). It contains a 32x32 RBG image (red, green, blue colour channels).\n",
    "2. Use the **plt.[imread](https://matplotlib.org/3.1.1/api/_as_gen/matplotlib.pyplot.imread.html)** function the load the file. Notice that the result of _imread_ is an _ndarray_ object of dtype _np.uint8_ and shape (32,32,3).\n",
    "3. Use the **plt.[imshow](https://matplotlib.org/3.1.1/api/_as_gen/matplotlib.pyplot.imshow.html)** function to plot the image. The plot should look like this: <img src=\"img/fig-exercise-image-digit-2.png\" style=\"height:180px\"/>\n",
    "4. The lab also comes with a file called [mnist-digit-3.png](mnist-digit-3.png). It contains another 32x32 RGB image.\n",
    "5. Use the **np.[hstack](https://www.numpy.org/devdocs/reference/generated/numpy.hstack.html)** function to create a new image where the digits are side-by-side.\n",
    "5. Plot new composite image. It should look like this: <img src=\"img/fig-exercise-image-digit-2-and-3.png\" style=\"height:180px\"/>"
   ]
  },
  {
   "cell_type": "code",
   "execution_count": 360,
   "metadata": {},
   "outputs": [
    {
     "data": {
      "text/plain": [
       "<matplotlib.image.AxesImage at 0x7faa483bb400>"
      ]
     },
     "execution_count": 360,
     "metadata": {},
     "output_type": "execute_result"
    },
    {
     "data": {
      "image/png": "[encoded data removed]",
      "text/plain": [
       "<Figure size 432x288 with 1 Axes>"
      ]
     },
     "metadata": {
      "needs_background": "light"
     },
     "output_type": "display_data"
    }
   ],
   "source": [
    "two = plt.imread('mnist-digit-2.png')\n",
    "three = plt.imread('mnist-digit-3.png')\n",
    "adjacent = np.hstack((two, three))\n",
    "plt.imshow(adjacent)"
   ]
  }
 ],
 "metadata": {
  "kernelspec": {
   "display_name": "Python 3",
   "language": "python",
   "name": "python3"
  },
  "language_info": {
   "codemirror_mode": {
    "name": "ipython",
    "version": 3
   },
   "file_extension": ".py",
   "mimetype": "text/x-python",
   "name": "python",
   "nbconvert_exporter": "python",
   "pygments_lexer": "ipython3",
   "version": "3.8.2"
  }
 },
 "nbformat": 4,
 "nbformat_minor": 2
}
